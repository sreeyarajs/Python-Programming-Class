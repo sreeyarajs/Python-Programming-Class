{
 "cells": [
  {
   "cell_type": "code",
   "execution_count": 1,
   "id": "0d6fe9fd-3e66-40c0-bbba-0719d4529cf4",
   "metadata": {},
   "outputs": [
    {
     "data": {
      "text/plain": [
       "20.0"
      ]
     },
     "execution_count": 1,
     "metadata": {},
     "output_type": "execute_result"
    }
   ],
   "source": [
    "# Variable names\n",
    "\n",
    "user_name = \"Chiya\"\n",
    "total_score = 0\n",
    "\n",
    "\n",
    "def calculate_average(score_list):\n",
    "    total = sum(score_list)\n",
    "    return total / len(score_list)\n",
    "\n",
    "calculate_average([10,20,30])"
   ]
  },
  {
   "cell_type": "code",
   "execution_count": 3,
   "id": "cc2db8a1-cd2c-4728-b32c-039eb337fb52",
   "metadata": {},
   "outputs": [
    {
     "ename": "SyntaxError",
     "evalue": "invalid syntax (2210765785.py, line 5)",
     "output_type": "error",
     "traceback": [
      "\u001b[1;36m  Cell \u001b[1;32mIn[3], line 5\u001b[1;36m\u001b[0m\n\u001b[1;33m    self.name = #name\u001b[0m\n\u001b[1;37m                ^\u001b[0m\n\u001b[1;31mSyntaxError\u001b[0m\u001b[1;31m:\u001b[0m invalid syntax\n"
     ]
    }
   ],
   "source": [
    "# Class name in Pascal case\n",
    "\n",
    "class EmployeeDetails:\n",
    "    def init(self, name, age):\n",
    "        self.name = #name\n",
    "        self.age = #ageCreating an instance of the class\n",
    "\n",
    "\n",
    "employee = EmployeeDetails(\"Chiya\", 30)\n",
    "print(employee.name)"
   ]
  },
  {
   "cell_type": "code",
   "execution_count": 5,
   "id": "652af4be-6985-4c6e-af36-2d0ec05b54bc",
   "metadata": {},
   "outputs": [
    {
     "name": "stdout",
     "output_type": "stream",
     "text": [
      "first matrix\n",
      "[[3, 6, 9], [12, 15, 18], [21, 24, 27]]\n",
      "\n",
      " copied matrix\n",
      "[[3, 6, 9], [12, 15, 18], [21, 24, 27]]\n",
      "1294409201664\n",
      "1294409201664\n"
     ]
    }
   ],
   "source": [
    "'''\n",
    "A user has a 3X 3 matrix , store this matrix in a variable , \n",
    "copy this matrix in another variable and then in copied matrix mulitple each value by constant and store the result inplace\n",
    "Print both the matrix\n",
    "'''\n",
    "list1=[\n",
    "    [1,2,3],\n",
    "    [4,5,6],\n",
    "    [7,8,9]\n",
    "]\n",
    "\n",
    "# copy the matrix\n",
    "list2=list1\n",
    "\n",
    "\n",
    "# multiple by number by 2\n",
    "constant=3\n",
    "for i in range(len(list2)):\n",
    "    for j in range(len(list2[i])):\n",
    "        list2[i][j] *= constant\n",
    "\n",
    "    \n",
    "# Print both matrices\n",
    "print(\"first matrix\")\n",
    "print(list1)\n",
    "\n",
    "print(\"\\n copied matrix\")\n",
    "print(list2)\n",
    "\n",
    "print(id(list1))\n",
    "print(id(list2))\n"
   ]
  },
  {
   "cell_type": "code",
   "execution_count": null,
   "id": "c39be214-6d7c-4d2b-b524-de10fad1ba2d",
   "metadata": {},
   "outputs": [],
   "source": []
  }
 ],
 "metadata": {
  "kernelspec": {
   "display_name": "Python 3 (ipykernel)",
   "language": "python",
   "name": "python3"
  },
  "language_info": {
   "codemirror_mode": {
    "name": "ipython",
    "version": 3
   },
   "file_extension": ".py",
   "mimetype": "text/x-python",
   "name": "python",
   "nbconvert_exporter": "python",
   "pygments_lexer": "ipython3",
   "version": "3.12.4"
  }
 },
 "nbformat": 4,
 "nbformat_minor": 5
}
