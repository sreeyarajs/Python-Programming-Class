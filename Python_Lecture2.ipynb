{
 "cells": [
  {
   "cell_type": "code",
   "execution_count": 1,
   "id": "d675cdf7-b011-4c00-9440-1a6711ca78fc",
   "metadata": {},
   "outputs": [
    {
     "data": {
      "text/plain": [
       "'Hewwo Worwd'"
      ]
     },
     "execution_count": 1,
     "metadata": {},
     "output_type": "execute_result"
    }
   ],
   "source": [
    "#String Methods\n",
    "Str=\"Hello World\"\n",
    "Str.replace('l','w')"
   ]
  },
  {
   "cell_type": "code",
   "execution_count": 3,
   "id": "41f4e2c8-74fa-41f7-a4bd-fb6d412dda5e",
   "metadata": {},
   "outputs": [
    {
     "data": {
      "text/plain": [
       "2283012652272"
      ]
     },
     "execution_count": 3,
     "metadata": {},
     "output_type": "execute_result"
    }
   ],
   "source": [
    "id(Str)"
   ]
  },
  {
   "cell_type": "code",
   "execution_count": 7,
   "id": "59cdb4cb-0ce6-413c-87cd-8910dfcb1892",
   "metadata": {},
   "outputs": [
    {
     "data": {
      "text/plain": [
       "str"
      ]
     },
     "execution_count": 7,
     "metadata": {},
     "output_type": "execute_result"
    }
   ],
   "source": [
    "type(Str)"
   ]
  },
  {
   "cell_type": "code",
   "execution_count": 9,
   "id": "f381345c-1226-4fac-aa6c-0a618d54ebae",
   "metadata": {},
   "outputs": [
    {
     "data": {
      "text/plain": [
       "'Hello World'"
      ]
     },
     "execution_count": 9,
     "metadata": {},
     "output_type": "execute_result"
    }
   ],
   "source": [
    "Str.replace(\"hewwo\",\"hello\")"
   ]
  },
  {
   "cell_type": "code",
   "execution_count": 11,
   "id": "f202b787-9e59-4ab6-ad2e-dd9b1803b7f2",
   "metadata": {},
   "outputs": [
    {
     "data": {
      "text/plain": [
       "11"
      ]
     },
     "execution_count": 11,
     "metadata": {},
     "output_type": "execute_result"
    }
   ],
   "source": [
    "#Lenght of str\n",
    "len(Str)"
   ]
  },
  {
   "cell_type": "code",
   "execution_count": 13,
   "id": "cb00d612-b96e-48df-bfc3-33480c7b6a04",
   "metadata": {},
   "outputs": [
    {
     "name": "stdout",
     "output_type": "stream",
     "text": [
      "5\n"
     ]
    }
   ],
   "source": [
    "str2=\"Chiya\"\n",
    "print(len(str2))"
   ]
  },
  {
   "cell_type": "code",
   "execution_count": 15,
   "id": "79639670-395d-4e5d-afde-08951211939e",
   "metadata": {},
   "outputs": [
    {
     "data": {
      "text/plain": [
       "'C'"
      ]
     },
     "execution_count": 15,
     "metadata": {},
     "output_type": "execute_result"
    }
   ],
   "source": [
    "#from index\n",
    "str2[0]"
   ]
  },
  {
   "cell_type": "code",
   "execution_count": 17,
   "id": "d4dd9c5f-5c69-4025-b0ea-b1f7348fe44d",
   "metadata": {},
   "outputs": [
    {
     "data": {
      "text/plain": [
       "'Chiy'"
      ]
     },
     "execution_count": 17,
     "metadata": {},
     "output_type": "execute_result"
    }
   ],
   "source": [
    "str2[0:4]  "
   ]
  },
  {
   "cell_type": "code",
   "execution_count": 19,
   "id": "493923e2-a3f5-493f-a830-f001e69aeb3c",
   "metadata": {},
   "outputs": [
    {
     "data": {
      "text/plain": [
       "'Chiya'"
      ]
     },
     "execution_count": 19,
     "metadata": {},
     "output_type": "execute_result"
    }
   ],
   "source": [
    "# to print the complete string using slicing \n",
    "str2[0:len(str2)]\n",
    "str2[0:]"
   ]
  },
  {
   "cell_type": "code",
   "execution_count": 21,
   "id": "4347b9c1-3110-4e89-9f7c-d5c5b445ef77",
   "metadata": {},
   "outputs": [
    {
     "data": {
      "text/plain": [
       "5"
      ]
     },
     "execution_count": 21,
     "metadata": {},
     "output_type": "execute_result"
    }
   ],
   "source": [
    "#Type Coversion\n",
    "x=int(10/2)\n",
    "x"
   ]
  },
  {
   "cell_type": "code",
   "execution_count": 23,
   "id": "556523bb-0756-40a9-9808-34f1fe9c1889",
   "metadata": {},
   "outputs": [
    {
     "data": {
      "text/plain": [
       "False"
      ]
     },
     "execution_count": 23,
     "metadata": {},
     "output_type": "execute_result"
    }
   ],
   "source": [
    "bool(0)"
   ]
  },
  {
   "cell_type": "code",
   "execution_count": 25,
   "id": "9bc2586f-a7b5-4c30-b462-12df4925e727",
   "metadata": {},
   "outputs": [
    {
     "data": {
      "text/plain": [
       "True"
      ]
     },
     "execution_count": 25,
     "metadata": {},
     "output_type": "execute_result"
    }
   ],
   "source": [
    "bool(-1)"
   ]
  },
  {
   "cell_type": "code",
   "execution_count": 27,
   "id": "6bb54095-d7f9-4d3b-8ad6-095c20f18e81",
   "metadata": {},
   "outputs": [
    {
     "name": "stdout",
     "output_type": "stream",
     "text": [
      "10001.000012\n"
     ]
    }
   ],
   "source": [
    "a=-10001.000012\n",
    "print(abs(a))"
   ]
  },
  {
   "cell_type": "code",
   "execution_count": 29,
   "id": "09ee94db-b487-41d9-9398-27e6a842c3a6",
   "metadata": {},
   "outputs": [
    {
     "data": {
      "text/plain": [
       "-10001.0"
      ]
     },
     "execution_count": 29,
     "metadata": {},
     "output_type": "execute_result"
    }
   ],
   "source": [
    "round(a,2)"
   ]
  },
  {
   "cell_type": "code",
   "execution_count": 31,
   "id": "3a798abb-bc3e-4c14-8c9f-a5d0090915c7",
   "metadata": {},
   "outputs": [
    {
     "data": {
      "text/plain": [
       "[1, 2, 3, 4, 5]"
      ]
     },
     "execution_count": 31,
     "metadata": {},
     "output_type": "execute_result"
    }
   ],
   "source": [
    "#Lists\n",
    "list=[1,2,3,4,5]\n",
    "list"
   ]
  },
  {
   "cell_type": "code",
   "execution_count": 33,
   "id": "b2f78168-ba35-4b20-b4e6-a73fe597ad81",
   "metadata": {},
   "outputs": [
    {
     "data": {
      "text/plain": [
       "2"
      ]
     },
     "execution_count": 33,
     "metadata": {},
     "output_type": "execute_result"
    }
   ],
   "source": [
    "list[1]"
   ]
  },
  {
   "cell_type": "code",
   "execution_count": 35,
   "id": "91c6f8fe-0289-4230-a7e1-e051b57eaf90",
   "metadata": {},
   "outputs": [
    {
     "data": {
      "text/plain": [
       "[1, 2, 3, 4, 7]"
      ]
     },
     "execution_count": 35,
     "metadata": {},
     "output_type": "execute_result"
    }
   ],
   "source": [
    "list[4]=7\n",
    "list"
   ]
  },
  {
   "cell_type": "code",
   "execution_count": 37,
   "id": "e3d9927c-9522-41d1-a764-d7b917d206c1",
   "metadata": {},
   "outputs": [
    {
     "data": {
      "text/plain": [
       "17"
      ]
     },
     "execution_count": 37,
     "metadata": {},
     "output_type": "execute_result"
    }
   ],
   "source": [
    "sum(list)"
   ]
  },
  {
   "cell_type": "code",
   "execution_count": 39,
   "id": "b9aef843-1c12-47ca-a78f-8e116f692848",
   "metadata": {},
   "outputs": [
    {
     "name": "stdin",
     "output_type": "stream",
     "text": [
      "Enter your name:  Sreeya\n"
     ]
    },
    {
     "name": "stdout",
     "output_type": "stream",
     "text": [
      "my name is Sreeya\n"
     ]
    }
   ],
   "source": [
    "#Taking Input\n",
    "name=input(\"Enter your name: \")\n",
    "print(f\"my name is {name}\")"
   ]
  },
  {
   "cell_type": "code",
   "execution_count": 41,
   "id": "08a4d6c9-d634-4fdd-8a0c-b266c1485b93",
   "metadata": {},
   "outputs": [
    {
     "name": "stdout",
     "output_type": "stream",
     "text": [
      "28\n"
     ]
    }
   ],
   "source": [
    "import sys\n",
    "x=12\n",
    "size=sys.getsizeof(x)\n",
    "print(size)"
   ]
  },
  {
   "cell_type": "code",
   "execution_count": 45,
   "id": "c89bcb9d-4e5f-41b6-ae2e-5d2243337a04",
   "metadata": {},
   "outputs": [
    {
     "name": "stdin",
     "output_type": "stream",
     "text": [
      "enter the number 12\n"
     ]
    },
    {
     "name": "stdout",
     "output_type": "stream",
     "text": [
      "Value is 12 \n",
      "Value  of ID is 140710692010776\n",
      "Value  of ID is <class 'int'>\n"
     ]
    }
   ],
   "source": [
    "def display(testvar):\n",
    "    print(f\"Value is {testvar} \")\n",
    "    print(f\"Value  of ID is {id(testvar)}\")\n",
    "    print(f\"Value  of ID is {type(testvar)}\")\n",
    "\n",
    "a=int(input(\"enter the number\"))\n",
    "display(a)"
   ]
  },
  {
   "cell_type": "code",
   "execution_count": null,
   "id": "fa5c366a-2787-4c6c-9ca9-7641a723afea",
   "metadata": {},
   "outputs": [],
   "source": []
  }
 ],
 "metadata": {
  "kernelspec": {
   "display_name": "Python 3 (ipykernel)",
   "language": "python",
   "name": "python3"
  },
  "language_info": {
   "codemirror_mode": {
    "name": "ipython",
    "version": 3
   },
   "file_extension": ".py",
   "mimetype": "text/x-python",
   "name": "python",
   "nbconvert_exporter": "python",
   "pygments_lexer": "ipython3",
   "version": "3.12.4"
  }
 },
 "nbformat": 4,
 "nbformat_minor": 5
}
