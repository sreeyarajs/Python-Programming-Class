{
 "cells": [
  {
   "cell_type": "code",
   "execution_count": 1,
   "id": "c47439c3-10b3-4961-8b8c-d2bce79dc056",
   "metadata": {},
   "outputs": [
    {
     "name": "stdout",
     "output_type": "stream",
     "text": [
      "{'sum': 38, 'cumulative_sum': [2, 5, 9, 14, 21, 29, 38], 'average': 5.428571428571429, 'min': 2, 'max': 9}\n"
     ]
    }
   ],
   "source": [
    "'''\n",
    "write a function that take one variable as input and return it sum , \n",
    "cumulative sum, average , min and maximum value. implement this function using for loop. \n",
    "define function documentation using docstring and show its uses\n",
    "'''\n",
    "def display(list1)->None:\n",
    "    total=0\n",
    "    list2=[]\n",
    "    for i in list1:\n",
    "        total=total+i\n",
    "        list2.append(total)\n",
    "        \n",
    "    length=len(list1)\n",
    "#     print(f\"Sum is -> {sum(list1)}\")\n",
    "#     print(f\"cumulative Sum is -> {list2}\")\n",
    "#     print(f\"Average is -> {total/length}\")\n",
    "#     print(f\"Minimum is -> {min(list1)}\")\n",
    "#     print(f\"Maximum is -> {max(list1)}\")\n",
    "    result = {\n",
    "        'sum': total,\n",
    "        'cumulative_sum': list2,\n",
    "        'average': total / length if length > 0 else 0,\n",
    "        'min': min(list1),\n",
    "        'max': max(list1)\n",
    "    }\n",
    "    return result\n",
    "\n",
    "list1=[2,3,4,5,7,8,9]\n",
    "val=display(list1)\n",
    "print(val)"
   ]
  },
  {
   "cell_type": "code",
   "execution_count": 5,
   "id": "cfb803a6-7796-4c5b-86e8-211b099b1c59",
   "metadata": {},
   "outputs": [
    {
     "name": "stdin",
     "output_type": "stream",
     "text": [
      "Enter the number : 3\n",
      "enter the element {i} 5\n",
      "enter the element {i} 6\n",
      "enter the element {i} 3\n"
     ]
    },
    {
     "name": "stdout",
     "output_type": "stream",
     "text": [
      "[5, 6, 3]\n"
     ]
    }
   ],
   "source": [
    "# asking user to enter the number which he want to fix\n",
    "n=int(input(\"Enter the number :\"))\n",
    "\n",
    "list1=[]\n",
    "for i in range(0,n):\n",
    "    user=int(input(\"enter the element {i}\"))\n",
    "    list1.append(user)\n",
    "print(list1)"
   ]
  },
  {
   "cell_type": "code",
   "execution_count": 9,
   "id": "4eb37f3c-0e22-4bb3-bc3b-27ed5998b181",
   "metadata": {},
   "outputs": [
    {
     "name": "stdin",
     "output_type": "stream",
     "text": [
      "Enter the number : 2\n",
      "enter the element {i} 1\n",
      "enter the element {i} 2\n"
     ]
    },
    {
     "name": "stdout",
     "output_type": "stream",
     "text": [
      "{'sum': 3, 'cumulative_sum': [1, 3], 'average': 1.5, 'min': 1, 'max': 2}\n"
     ]
    }
   ],
   "source": [
    "# final code \n",
    "\n",
    "def display(list1)->None:\n",
    "    total=0\n",
    "    list2=[]\n",
    "    for i in list1:\n",
    "        total=total+i\n",
    "        list2.append(total)\n",
    "        \n",
    "    length=len(list1)\n",
    "    result = {\n",
    "        'sum': total,\n",
    "        'cumulative_sum': list2,\n",
    "        'average': total / length if length > 0 else 0,\n",
    "        'min': min(list1),\n",
    "        'max': max(list1)\n",
    "    }\n",
    "    return result\n",
    "\n",
    "# asking user to enter the number which he want to fix\n",
    "n=int(input(\"Enter the number :\"))\n",
    "list1=[]\n",
    "for i in range(0,n):\n",
    "    user=int(input(\"enter the element {i}\"))\n",
    "    list1.append(user)\n",
    "    \n",
    "val=display(list1)\n",
    "print(val)\n"
   ]
  },
  {
   "cell_type": "code",
   "execution_count": 11,
   "id": "da9b09c7-8b1b-4c0e-9efe-b8877fafdc19",
   "metadata": {},
   "outputs": [],
   "source": [
    "# final code \n",
    "\n",
    "def display(list1)->None:\n",
    "    total=0\n",
    "    list2=[]\n",
    "    for i in list1:\n",
    "        total=total+i\n",
    "        list2.append(total)\n",
    "        \n",
    "    length=len(list1)\n",
    "    result = {\n",
    "        'sum': total,\n",
    "        'cumulative_sum': list2,\n",
    "        'average': total / length if length > 0 else 0,\n",
    "        'min': min(list1),\n",
    "        'max': max(list1)\n",
    "    }\n",
    "    return result\n",
    "\n",
    "\n",
    "    \n",
    "# val=display(list1)\n",
    "# print(val)"
   ]
  },
  {
   "cell_type": "code",
   "execution_count": 13,
   "id": "27da87b4-000f-4b4e-b28d-71772e341c78",
   "metadata": {},
   "outputs": [
    {
     "name": "stdin",
     "output_type": "stream",
     "text": [
      "Enter the number : 4\n",
      "enter the element {i} 2\n",
      "enter the element {i} 3\n",
      "enter the element {i} 4\n",
      "enter the element {i} 5\n"
     ]
    },
    {
     "name": "stdout",
     "output_type": "stream",
     "text": [
      "{'sum': 14, 'cumulative_sum': [2, 5, 9, 14], 'average': 3.5, 'min': 2, 'max': 5}\n"
     ]
    }
   ],
   "source": [
    "def input_from_user_element():\n",
    "    n=int(input(\"Enter the number :\"))\n",
    "    list1=[]\n",
    "    for i in range(0,n):\n",
    "        user=int(input(\"enter the element {i}\"))\n",
    "        list1.append(user)\n",
    "    val=display(list1)\n",
    "    print(val)\n",
    "    \n",
    "input_from_user_element()"
   ]
  },
  {
   "cell_type": "code",
   "execution_count": 17,
   "id": "668466e6-234a-4989-a713-6f5fd2bb9df4",
   "metadata": {},
   "outputs": [
    {
     "name": "stdin",
     "output_type": "stream",
     "text": [
      "Enter the number : 2\n",
      "enter the element {i} 1\n",
      "enter the element {i} 2\n"
     ]
    },
    {
     "name": "stdout",
     "output_type": "stream",
     "text": [
      "{'sum': 3, 'cumulative_sum': [1, 3], 'average': 1.5, 'min': 1, 'max': 2}\n"
     ]
    }
   ],
   "source": [
    "# final code \n",
    "\n",
    "def display(list1)->None:\n",
    "    total=0\n",
    "    list2=[]\n",
    "    for i in list1:\n",
    "        total=total+i\n",
    "        list2.append(total)\n",
    "        \n",
    "    length=len(list1)\n",
    "    result = {\n",
    "        'sum': total,\n",
    "        'cumulative_sum': list2,\n",
    "        'average': total / length if length > 0 else 0,\n",
    "        'min': min(list1),\n",
    "        'max': max(list1)\n",
    "    }\n",
    "    return result\n",
    "\n",
    "\n",
    "def input_from_user_element():\n",
    "    n=int(input(\"Enter the number :\"))\n",
    "    list1=[]\n",
    "    for i in range(0,n):\n",
    "        user=int(input(\"enter the element {i}\"))\n",
    "        list1.append(user)\n",
    "    val=display(list1)\n",
    "    print(val)\n",
    "    \n",
    "input_from_user_element()"
   ]
  },
  {
   "cell_type": "code",
   "execution_count": null,
   "id": "02eb4577-3b39-4a49-a2fc-ff2cef40ed08",
   "metadata": {},
   "outputs": [],
   "source": []
  }
 ],
 "metadata": {
  "kernelspec": {
   "display_name": "Python 3 (ipykernel)",
   "language": "python",
   "name": "python3"
  },
  "language_info": {
   "codemirror_mode": {
    "name": "ipython",
    "version": 3
   },
   "file_extension": ".py",
   "mimetype": "text/x-python",
   "name": "python",
   "nbconvert_exporter": "python",
   "pygments_lexer": "ipython3",
   "version": "3.12.4"
  }
 },
 "nbformat": 4,
 "nbformat_minor": 5
}
