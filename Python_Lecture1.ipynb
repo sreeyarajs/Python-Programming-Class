# string concept in python 

mystring="Sreeya Raj"
print(mystring)
type(mystring)


#to uppercase
mystring.upper()


#to lowercase
mystring.lower()


#Replace
mystring.replace("e","ee")


#Concatenation
str1="Chiya"
str2="Ze"
print(str1+str2)

#space in between
print(str1+" "+str2)


#Multiply strings
print(str1*3)


# membership function  : to check whether the item is in string or not
str1="Sreeya Raj"
print("Raj"in str1)


#Length of string
str3="Chiya Ze"
print(len(str3))


#index
str3[0]


str3[0:5]


# string comparsion
str1="Yuuki"
str2="Chiya"

print(str1==str2)
print(str1<str2)


a="aaabc"
b="aabc"
print(a<b)


# ESCAPE CHARACTER   

str4="Hello \"python\""
print(str4)


# taking input in python

name=input("Enter your name:")
print("Hi "+name)
print(f"Hello {name}")


#Numeric

print(2**2)


print(2/2)


print(20//5)


print(50%5)



