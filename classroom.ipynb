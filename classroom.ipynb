{
 "cells": [
  {
   "cell_type": "code",
   "execution_count": 3,
   "id": "df6ef2ce-001c-4ec2-a219-a746e86305ee",
   "metadata": {},
   "outputs": [
    {
     "name": "stdout",
     "output_type": "stream",
     "text": [
      "hello from closure\n"
     ]
    }
   ],
   "source": [
    "def outer_function(message):\n",
    "    # value of the message is present here\n",
    "    def inner_function():\n",
    "        print(message)\n",
    "        #inner_function()\n",
    "    return inner_function\n",
    "closure = outer_function(\"hello from closure\") \n",
    "closure()"
   ]
  },
  {
   "cell_type": "code",
   "execution_count": 4,
   "id": "0afc9c48-78ff-48b7-8ad6-77a77a311aba",
   "metadata": {},
   "outputs": [
    {
     "name": "stdout",
     "output_type": "stream",
     "text": [
      "1\n",
      "2\n",
      "1\n",
      "3\n"
     ]
    }
   ],
   "source": [
    "# for persistant states\n",
    "def counter():\n",
    "    #value of count is present here\n",
    "    count = 0\n",
    "    def increment():\n",
    "        nonlocal count\n",
    "        count += 1\n",
    "        print(count)\n",
    "    return increment\n",
    "c1 = counter()\n",
    "c1()\n",
    "c1()\n",
    "\n",
    "c2 = counter()\n",
    "\n",
    "c2()\n",
    "c1()"
   ]
  },
  {
   "cell_type": "code",
   "execution_count": 6,
   "id": "a67cb6ef-4532-4430-beec-75aa1bdcddaa",
   "metadata": {},
   "outputs": [
    {
     "name": "stdout",
     "output_type": "stream",
     "text": [
      "\n",
      " n=100000 Time to execute is14007.25 micro seconds\n",
      "\n",
      " n=100000 Time to execute is0.0 micro seconds\n"
     ]
    }
   ],
   "source": [
    "#write a function to count n and evaluate a= n* 10 for all values from 0 to n\n",
    "import time\n",
    "def count(n):\n",
    "    for i in range(0,n):\n",
    "        a = n*10\n",
    "\n",
    "#ns = [100000,234234, 34345,345,344, 345]\n",
    "n = 100000\n",
    "\n",
    "# code to evaluate run time of function call count(n)\n",
    "def wrapper(func, *args, **kwargs):\n",
    "    def wrapped(*args,**kwargs):\n",
    "        start_time = time.time() * 1000000\n",
    "        func(*args,**kwargs)#timing this function call/ execution\n",
    "        end_time = time.time() * 1000000\n",
    "        print(f\"\\n n={n} Time to execute is{end_time - start_time} micro seconds\")\n",
    "    #wrapped(*args,**kwargs)\n",
    "    return wrapped\n",
    "@wrapper #decorater \n",
    "def count(n):\n",
    "    for i in range(0,n):\n",
    "        a = n*10\n",
    "count(n)\n",
    "@wrapper \n",
    "def random():\n",
    "    pass\n",
    "\n",
    "random()\n",
    "\n",
    "#wrapped_count = wrapper(count,n)\n",
    "#wrapped_count(n)\n",
    "\n"
   ]
  },
  {
   "cell_type": "code",
   "execution_count": 1,
   "id": "02751912-156e-4ef3-905e-b828c8ffbdc8",
   "metadata": {},
   "outputs": [
    {
     "ename": "NameError",
     "evalue": "name '_name_' is not defined",
     "output_type": "error",
     "traceback": [
      "\u001b[1;31m---------------------------------------------------------------------------\u001b[0m",
      "\u001b[1;31mNameError\u001b[0m                                 Traceback (most recent call last)",
      "Cell \u001b[1;32mIn[1], line 27\u001b[0m\n\u001b[0;32m     24\u001b[0m         \u001b[38;5;28;01mreturn\u001b[39;00m \u001b[38;5;124mf\u001b[39m\u001b[38;5;124m\"\u001b[39m\u001b[38;5;124mPoint(\u001b[39m\u001b[38;5;132;01m{\u001b[39;00m\u001b[38;5;28mself\u001b[39m\u001b[38;5;241m.\u001b[39mx\u001b[38;5;132;01m}\u001b[39;00m\u001b[38;5;124m, \u001b[39m\u001b[38;5;132;01m{\u001b[39;00m\u001b[38;5;28mself\u001b[39m\u001b[38;5;241m.\u001b[39my\u001b[38;5;132;01m}\u001b[39;00m\u001b[38;5;124m)\u001b[39m\u001b[38;5;124m\"\u001b[39m\n\u001b[0;32m     26\u001b[0m \u001b[38;5;66;03m# Example usage\u001b[39;00m\n\u001b[1;32m---> 27\u001b[0m \u001b[38;5;28;01mif\u001b[39;00m \u001b[43m_name_\u001b[49m \u001b[38;5;241m==\u001b[39m \u001b[38;5;124m\"\u001b[39m\u001b[38;5;124m_main_\u001b[39m\u001b[38;5;124m\"\u001b[39m:\n\u001b[0;32m     28\u001b[0m     \u001b[38;5;66;03m# Define points\u001b[39;00m\n\u001b[0;32m     29\u001b[0m     points \u001b[38;5;241m=\u001b[39m [Point(\u001b[38;5;241m1\u001b[39m, \u001b[38;5;241m2\u001b[39m), Point(\u001b[38;5;241m1\u001b[39m, \u001b[38;5;241m3\u001b[39m), Point(\u001b[38;5;241m2\u001b[39m, \u001b[38;5;241m4\u001b[39m), Point(\u001b[38;5;241m5\u001b[39m, \u001b[38;5;241m7\u001b[39m)]\n\u001b[0;32m     31\u001b[0m     \u001b[38;5;66;03m# Calculate distance between the first two points\u001b[39;00m\n",
      "\u001b[1;31mNameError\u001b[0m: name '_name_' is not defined"
     ]
    }
   ],
   "source": [
    "import math\n",
    "\n",
    "class Point:\n",
    "    def _init_(self, x, y):\n",
    "        self.x = x\n",
    "        self.y = y\n",
    "\n",
    "    def distance_to(self, other):\n",
    "        \"\"\"Calculate the distance between this point and another point.\"\"\"\n",
    "        return math.sqrt((other.x - self.x) ** 2 + (other.y - self.y) ** 2)\n",
    "\n",
    "    def to_polar(self):\n",
    "        \"\"\"Convert Cartesian coordinates to polar coordinates (r, theta).\"\"\"\n",
    "        r = math.sqrt(self.x ** 2 + self.y ** 2)\n",
    "        theta = math.atan2(self.y, self.x)  # Angle in radians\n",
    "        return r, math.degrees(theta)  # Return theta in degrees\n",
    "\n",
    "    def move(self, dx, dy):\n",
    "        \"\"\"Move the point by the given displacements in x and y directions.\"\"\"\n",
    "        self.x += dx\n",
    "        self.y += dy\n",
    "\n",
    "    def _repr_(self):\n",
    "        return f\"Point({self.x}, {self.y})\"\n",
    "\n",
    "# Example usage\n",
    "if _name_ == \"_main_\":\n",
    "    # Define points\n",
    "    points = [Point(1, 2), Point(1, 3), Point(2, 4), Point(5, 7)]\n",
    "\n",
    "    # Calculate distance between the first two points\n",
    "    distance = points[0].distance_to(points[1])\n",
    "    print(f\"Distance between {points[0]} and {points[1]}: {distance}\")\n",
    "\n",
    "    # Convert the first point to polar coordinates\n",
    "    polar_coords = points[0].to_polar()\n",
    "    print(f\"Polar coordinates of {points[0]}: r={polar_coords[0]}, theta={polar_coords[1]}°\")\n",
    "\n",
    "    # Move the first point by a displacement of (2, 3)\n",
    "    print(f\"Moving {points[0]} by (2, 3).\")\n",
    "    points[0].move(2, 3)\n",
    "    print(f\"New position of the point: {points[0]}\")\n",
    "    "
   ]
  },
  {
   "cell_type": "code",
   "execution_count": 3,
   "id": "74e85b5b-5b8c-4bdf-aaee-259c65f4994a",
   "metadata": {},
   "outputs": [
    {
     "ename": "ModuleNotFoundError",
     "evalue": "No module named 'pandas'",
     "output_type": "error",
     "traceback": [
      "\u001b[1;31m---------------------------------------------------------------------------\u001b[0m",
      "\u001b[1;31mModuleNotFoundError\u001b[0m                       Traceback (most recent call last)",
      "Cell \u001b[1;32mIn[3], line 1\u001b[0m\n\u001b[1;32m----> 1\u001b[0m \u001b[38;5;28;01mimport\u001b[39;00m \u001b[38;5;21;01mpandas\u001b[39;00m \u001b[38;5;28;01mas\u001b[39;00m \u001b[38;5;21;01mpd\u001b[39;00m\n\u001b[0;32m      2\u001b[0m \u001b[38;5;28;01mimport\u001b[39;00m \u001b[38;5;21;01mnumpy\u001b[39;00m \u001b[38;5;28;01mas\u001b[39;00m \u001b[38;5;21;01mnp\u001b[39;00m\n",
      "\u001b[1;31mModuleNotFoundError\u001b[0m: No module named 'pandas'"
     ]
    }
   ],
   "source": [
    "import pandas as pd\n",
    "import numpy as np"
   ]
  },
  {
   "cell_type": "code",
   "execution_count": null,
   "id": "084c6453-33cd-4060-a086-052eb4890c4d",
   "metadata": {},
   "outputs": [],
   "source": []
  },
  {
   "cell_type": "code",
   "execution_count": null,
   "id": "28fb0704-3c85-4934-9c0d-0e0fc79fe699",
   "metadata": {},
   "outputs": [],
   "source": []
  }
 ],
 "metadata": {
  "kernelspec": {
   "display_name": "Python 3 (ipykernel)",
   "language": "python",
   "name": "python3"
  },
  "language_info": {
   "codemirror_mode": {
    "name": "ipython",
    "version": 3
   },
   "file_extension": ".py",
   "mimetype": "text/x-python",
   "name": "python",
   "nbconvert_exporter": "python",
   "pygments_lexer": "ipython3",
   "version": "3.12.5"
  }
 },
 "nbformat": 4,
 "nbformat_minor": 5
}
