{
 "cells": [
  {
   "cell_type": "code",
   "execution_count": 1,
   "id": "f90ed5ab-ef6b-48c8-9a77-6a62334670b3",
   "metadata": {},
   "outputs": [
    {
     "name": "stdout",
     "output_type": "stream",
     "text": [
      "BEFORE ANY CHANGE TO A AND B LIST \n",
      "id(A)-> 2459234198144\n",
      "id(B)-> 2459234201344\n",
      "a=>[1, 2, 3, [100, 200], 4, 5, 6]\n",
      "b=>[1, 2, 3, [100, 200], 4, 5, 6]\n",
      "\n",
      "AFTER CHANGES IN A and B LIST \n",
      "a=>[1, 2, 3, [100, 200], 4, 5, 6]\n",
      "b=>[100, 2, 3, [999, 200], 4, 5, 6]\n"
     ]
    }
   ],
   "source": [
    "from copy import deepcopy\n",
    "\n",
    "a = [1, 2, 3, [100, 200], 4, 5, 6]\n",
    "\n",
    "b = deepcopy(a)\n",
    "print(\"BEFORE ANY CHANGE TO A AND B LIST \")\n",
    "print(f\"id(A)-> {id(a)}\")\n",
    "print(f\"id(B)-> {id(b)}\")\n",
    "\n",
    "print(f\"a=>{a}\")\n",
    "print(f\"b=>{b}\")\n",
    "\n",
    "\n",
    "b[0] = 100\n",
    "b[3][0] = 999\n",
    "print()\n",
    "print(\"AFTER CHANGES IN A and B LIST \")\n",
    "\n",
    "print(f\"a=>{a}\")\n",
    "print(f\"b=>{b}\")"
   ]
  },
  {
   "cell_type": "code",
   "execution_count": 3,
   "id": "86c79c7b-7044-42aa-9be9-d3680818720b",
   "metadata": {},
   "outputs": [
    {
     "name": "stdout",
     "output_type": "stream",
     "text": [
      "id(A)-> 2459234752384\n",
      "id(B)-> 2459234752064\n",
      "a=>[1, 2, 3, 4, 5, 6]\n",
      "b=>[1, 2, 3, 4, 5, 6]\n",
      "\n",
      "a=>[1, 2, 3, 4, 5, 6]\n",
      "b=>[100, 2, 3, 4, 5, 6]\n"
     ]
    }
   ],
   "source": [
    "\"\"\"\n",
    "Shallow Copy and Deep Copy concept in list \n",
    "\"\"\"\n",
    "\n",
    "a = [1, 2, 3, 4, 5, 6]\n",
    "\n",
    "b = (\n",
    "    a.copy()\n",
    ") \n",
    "print(f\"id(A)-> {id(a)}\")\n",
    "print(f\"id(B)-> {id(b)}\")\n",
    "\n",
    "print(f\"a=>{a}\")\n",
    "print(f\"b=>{b}\")\n",
    "\n",
    "b[0] = 100\n",
    "print()\n",
    "print(f\"a=>{a}\")\n",
    "print(f\"b=>{b}\")"
   ]
  },
  {
   "cell_type": "code",
   "execution_count": 5,
   "id": "a7fbe2a3-c938-4be3-af88-0aa01422da7b",
   "metadata": {},
   "outputs": [
    {
     "name": "stdout",
     "output_type": "stream",
     "text": [
      "Hello, Sreeya!\n"
     ]
    }
   ],
   "source": [
    "def greet(name):\n",
    "\n",
    "#Greets a person by their name.\n",
    "    return f\"Hello, {name}!\"\n",
    "\n",
    "message = greet(\"Sreeya\")\n",
    "print(message) "
   ]
  },
  {
   "cell_type": "code",
   "execution_count": 7,
   "id": "a50068f8-4eec-434f-b591-9f2b72c98e26",
   "metadata": {},
   "outputs": [
    {
     "name": "stdout",
     "output_type": "stream",
     "text": [
      "The Sum of Three number are => 16\n"
     ]
    }
   ],
   "source": [
    "#Write a program to add three number and return it value\n",
    "def add(a, b,c):\n",
    "    return a + b + c  \n",
    "result = add(5, 3,8)\n",
    "print(f\"The Sum of Three number are => {result}\") "
   ]
  },
  {
   "cell_type": "code",
   "execution_count": 11,
   "id": "c4fdea63-2847-4ad1-8046-6fb81a73a403",
   "metadata": {},
   "outputs": [
    {
     "name": "stdout",
     "output_type": "stream",
     "text": [
      "My name is Chiya, and I am 16 years old.\n",
      "My name is Sreeya, and I am 20 years old.\n"
     ]
    }
   ],
   "source": [
    "# Keyword Parameter in python\n",
    "\n",
    "def introduce(name, age=16):\n",
    "\n",
    "    \"\"\"Introduces a person with their name and age.\"\"\"\n",
    "    return f\"My name is {name}, and I am {age} years old.\"# Calling with positional arguments\n",
    "\n",
    "\n",
    "print(introduce(\"Chiya\")) \n",
    "\n",
    "\n",
    "print(introduce(name=\"Sreeya\", age=20))"
   ]
  },
  {
   "cell_type": "code",
   "execution_count": 13,
   "id": "54908f1b-6151-477d-a409-7f8dce5c0a1f",
   "metadata": {},
   "outputs": [
    {
     "name": "stdout",
     "output_type": "stream",
     "text": [
      "15\n",
      "60\n"
     ]
    }
   ],
   "source": [
    "# PASSING LIST,TUPLES, DICTIONARY TO THE FUNCTIONS\n",
    "def sum_numbers(numbers):\n",
    "\n",
    "#Sums all the numbers in a collection.\n",
    "    return sum(numbers)# Passing a list to the function\n",
    "\n",
    "\n",
    "result = sum_numbers([1, 2, 3, 4, 5])\n",
    "print(result)  # Output: 15Passing a tuple to the function\n",
    "\n",
    "\n",
    "result = sum_numbers((10, 20, 30))\n",
    "print(result)  # Output: 60"
   ]
  },
  {
   "cell_type": "code",
   "execution_count": 17,
   "id": "c61d5fd7-3b2a-4f91-96b1-f0ceb9fb8191",
   "metadata": {},
   "outputs": [
    {
     "name": "stdout",
     "output_type": "stream",
     "text": [
      "1\n",
      "2\n",
      "3\n",
      "4\n",
      "name: Chiya\n",
      "age: 17\n"
     ]
    }
   ],
   "source": [
    "def print_numbers(*args):\n",
    "\n",
    "    for number in args:\n",
    "        print(number)\n",
    "\n",
    "print_numbers(1, 2, 3, 4)\n",
    "\n",
    "def print_key_value(**kwargs):\n",
    "    for key, value in kwargs.items():\n",
    "        print(f\"{key}: {value}\")\n",
    "\n",
    "\n",
    "print_key_value(name=\"Chiya\", age=17)"
   ]
  },
  {
   "cell_type": "code",
   "execution_count": 19,
   "id": "018f67b0-0aaa-4445-8b39-eca9507a8809",
   "metadata": {},
   "outputs": [
    {
     "name": "stdout",
     "output_type": "stream",
     "text": [
      "1\n",
      "(2, 3, 4)\n"
     ]
    }
   ],
   "source": [
    "def sum3(a,*args):\n",
    "    print(a)\n",
    "    print(args)\n",
    "    res=a\n",
    "    for i in range(0,len(args)):\n",
    "        res=res+args[i]\n",
    "        \n",
    "    return res\n",
    "\n",
    "res=sum3(1,2,3,4)"
   ]
  },
  {
   "cell_type": "code",
   "execution_count": 21,
   "id": "e0fa74cc-3b2d-4a6b-b788-d0cdf7c67a55",
   "metadata": {},
   "outputs": [
    {
     "ename": "AttributeError",
     "evalue": "'function' object has no attribute 'doc'",
     "output_type": "error",
     "traceback": [
      "\u001b[1;31m---------------------------------------------------------------------------\u001b[0m",
      "\u001b[1;31mAttributeError\u001b[0m                            Traceback (most recent call last)",
      "Cell \u001b[1;32mIn[21], line 1\u001b[0m\n\u001b[1;32m----> 1\u001b[0m help(sum3\u001b[38;5;241m.\u001b[39mdoc)\n",
      "\u001b[1;31mAttributeError\u001b[0m: 'function' object has no attribute 'doc'"
     ]
    }
   ],
   "source": [
    "help(sum3.doc) "
   ]
  },
  {
   "cell_type": "code",
   "execution_count": 23,
   "id": "64522ef8-150b-40a9-a207-76910201ef31",
   "metadata": {},
   "outputs": [],
   "source": [
    "dict1={\n",
    "    \"name\":\"Sreeya\",\n",
    "    \"batch\":\"B1\",\n",
    "    \"classtime\":\"8:AM\"\n",
    "}"
   ]
  },
  {
   "cell_type": "code",
   "execution_count": 25,
   "id": "93af137b-33e8-4a51-9d28-02639281a94b",
   "metadata": {},
   "outputs": [
    {
     "name": "stdout",
     "output_type": "stream",
     "text": [
      "name: Sreeya\n",
      "age: 20\n",
      "Job: Student\n"
     ]
    }
   ],
   "source": [
    "def printdict(**info):\n",
    "    for key, value in info.items():\n",
    "        print(f\"{key}: {value}\")\n",
    "\n",
    "dict1={\n",
    "    \"name\":\"Sreeya\",\n",
    "    \"batch\":\"B1\",\n",
    "    \"classtime\":\"8:AM\"\n",
    "}\n",
    "\n",
    "printdict(name=\"Sreeya\",age=20,Job=\"Student\")"
   ]
  },
  {
   "cell_type": "code",
   "execution_count": null,
   "id": "d583c508-b3d2-4c9b-a392-cf99d0e894e1",
   "metadata": {},
   "outputs": [],
   "source": []
  }
 ],
 "metadata": {
  "kernelspec": {
   "display_name": "Python 3 (ipykernel)",
   "language": "python",
   "name": "python3"
  },
  "language_info": {
   "codemirror_mode": {
    "name": "ipython",
    "version": 3
   },
   "file_extension": ".py",
   "mimetype": "text/x-python",
   "name": "python",
   "nbconvert_exporter": "python",
   "pygments_lexer": "ipython3",
   "version": "3.12.4"
  }
 },
 "nbformat": 4,
 "nbformat_minor": 5
}
